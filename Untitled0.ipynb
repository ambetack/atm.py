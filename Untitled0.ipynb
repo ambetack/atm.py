{
  "nbformat": 4,
  "nbformat_minor": 0,
  "metadata": {
    "colab": {
      "name": "Untitled0.ipynb",
      "provenance": [],
      "authorship_tag": "ABX9TyMJsBrG9Fi+1EiXTpa4SYLs",
      "include_colab_link": true
    },
    "kernelspec": {
      "name": "python3",
      "display_name": "Python 3"
    }
  },
  "cells": [
    {
      "cell_type": "markdown",
      "metadata": {
        "id": "view-in-github",
        "colab_type": "text"
      },
      "source": [
        "<a href=\"https://colab.research.google.com/github/ambetack/atm.py/blob/master/Untitled0.ipynb\" target=\"_parent\"><img src=\"https://colab.research.google.com/assets/colab-badge.svg\" alt=\"Open In Colab\"/></a>"
      ]
    },
    {
      "cell_type": "code",
      "metadata": {
        "id": "jhcZw1ru285w",
        "colab_type": "code",
        "colab": {}
      },
      "source": [
        "#1.6\n",
        "import pandas as pd\n",
        "import distance\n",
        "from collection import counter\n",
        "dict_SURNAME=dict()\n",
        "dict_NAME=dict()\n",
        "def dist(str1,str2):\n",
        "  return distance.levenshtein(str1,str2)\n",
        "def find_name(namelist,todid):\n",
        "  for names in namelist:\n",
        "nameSorted=Counter(names)\n",
        "  most_common()\n",
        "for name in name sorted[1:]\n",
        "if dist(namesorted [0][0]\n",
        "name[0])<3:\n",
        "to dict.update({name[0]:name sorted[0] [0]})\n",
        "df surname=df1.groupby(['BIRTH','NAME']\n",
        "find_name(df Surname.SURNAME.tolist().dict_SURNAME)\n",
        "dfname=df1.groupby(['BIRTH','SURNAME')Name.apply(list)\n",
        "print (dict_SURNAME)\n",
        "print(dict_SURNAME)\n",
        "df2=df1.replace({'NAME':dict_NAME \"SURNAME\":dict SURNAME}]\n",
        "print(df2)"
      ],
      "execution_count": null,
      "outputs": []
    },
    {
      "cell_type": "code",
      "metadata": {
        "id": "OckQxGZc744r",
        "colab_type": "code",
        "colab": {}
      },
      "source": [
        "#4.1speed up a python program \n",
        "# 1) use better data structures  and algorithm \n",
        "# 2) use built in function and libaries\n",
        "# 3)use C equivalent of libaries\n",
        "#4) use idomatic code\n",
        "# 5)use existing package"
      ],
      "execution_count": null,
      "outputs": []
    },
    {
      "cell_type": "code",
      "metadata": {
        "id": "X1tuKkDH88FC",
        "colab_type": "code",
        "colab": {}
      },
      "source": [
        "#3.1 imputation feature selection normalisation etc.\n",
        "# the division between training  and test set is an attempt to replicate the situate where you have past information and are building a model which you will test on future as yet unknown information. \n",
        "The trainig set takes the place of the past and test set takes the place of the futute. So you only get to test your trained model once."
      ],
      "execution_count": null,
      "outputs": []
    },
    {
      "cell_type": "code",
      "metadata": {
        "id": "Dbnz7uY7-TlC",
        "colab_type": "code",
        "colab": {}
      },
      "source": [
        "#2.1 calculate the pearson correlation between two variable. \n",
        "from numpy.random import rando\n",
        "from numpy.random import seed\n",
        "from scipy.stats import pearson\n",
        "#seed random number generator\n",
        "#prepare data\n",
        "data1=20*randn(1000)+100\n",
        "data2=data1+(10*randan(1000)+50)\n",
        "#calculate  pearson's correlation\n",
        "corr_=pearsonr(data1,data2)\n",
        "print('pearsons correlation = %3f %corr)"
      ],
      "execution_count": null,
      "outputs": []
    },
    {
      "cell_type": "code",
      "metadata": {
        "id": "pCGIEfj_AmqP",
        "colab_type": "code",
        "colab": {}
      },
      "source": [
        "#1.1 \n",
        "import pandas as pd\n",
        "import datetime\n",
        "def date():\n",
        "df=pd.dataframe({\"A\":[\"2019-01-01\",2020-02-03,\"2019-04-05\"})\n",
        "\"B\":[\"2019-03-02\",\"2019-04-05\",\"2019-05-06\"})"
      ],
      "execution_count": null,
      "outputs": []
    }
  ]
}